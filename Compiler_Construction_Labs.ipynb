{
  "nbformat": 4,
  "nbformat_minor": 0,
  "metadata": {
    "colab": {
      "provenance": [],
      "collapsed_sections": [],
      "authorship_tag": "ABX9TyMCf4te7TMiH2k8k2fP59xU",
      "include_colab_link": true
    },
    "kernelspec": {
      "name": "python3",
      "display_name": "Python 3"
    },
    "language_info": {
      "name": "python"
    }
  },
  "cells": [
    {
      "cell_type": "markdown",
      "metadata": {
        "id": "view-in-github",
        "colab_type": "text"
      },
      "source": [
        "<a href=\"https://colab.research.google.com/github/tmogoa/compilerconstruction/blob/main/Compiler_Construction_Labs.ipynb\" target=\"_parent\"><img src=\"https://colab.research.google.com/assets/colab-badge.svg\" alt=\"Open In Colab\"/></a>"
      ]
    },
    {
      "cell_type": "markdown",
      "source": [
        "# ***Group members: 116814,***"
      ],
      "metadata": {
        "id": "Z9Z0visyenY7"
      }
    },
    {
      "cell_type": "markdown",
      "source": [
        "# **Lab 1: Flex, Bison, Lex, Yacc**"
      ],
      "metadata": {
        "id": "0FQBiFjDe_9l"
      }
    },
    {
      "cell_type": "markdown",
      "source": [
        "### Flex\n",
        "\n",
        "Flex is ..."
      ],
      "metadata": {
        "id": "8PRe-heKof4W"
      }
    },
    {
      "cell_type": "markdown",
      "source": [
        "### Bison"
      ],
      "metadata": {
        "id": "2sWFgALEoUMQ"
      }
    },
    {
      "cell_type": "markdown",
      "source": [
        "Bison is a general purpose parser(syntatic analyzer) generator which is published as part of the GNU project. Bison converts an annotated context-free grammar into a LR of generalized LR parser (GNU, 2021). *'LR'* refers to Left-to-right scanning Right-most derivation in reverse (Javatpoint, 2022). Additionally Bison is compatible with YACC, that is all correcly written YACC grammars can work with Bison (GNU, 2021). Bison is the GNU equivalent of YACC (MVPS.net, 2019).\n",
        "\n",
        "The diagram below by Gao(2022) shows summary of how Bison works, how a parser is generated and how it is then compiled by a C compiler afterwhich in can be use to generate syntax trees.\n",
        "\n",
        "![bison.jpg](data:image/jpeg;base64,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)\n",
        "\n",
        "Below is a code snippet of a simple calculator program (Levine, 2009):\n",
        "\n",
        "    /* simplest version of calculator */\n",
        "    %{\n",
        "    #include <stdio.h>\n",
        "    %}\n",
        "\n",
        "    /* declare tokens */\n",
        "    %token NUMBER\n",
        "    %token ADD SUB MUL DIV ABS\n",
        "    %token EOL\n",
        "\n",
        "    %%\n",
        "\n",
        "    calclist: /* nothing */                       matches at beginning of input\n",
        "    | calclist exp EOL { printf(\"= %d\\n\", $2); } EOL is end of an expression\n",
        "    ;\n",
        "\n",
        "    exp: factor       default $$ = $1 \n",
        "    | exp ADD factor { $$ = $1 + $3; }\n",
        "    | exp SUB factor { $$ = $1 - $3; }\n",
        "    ;\n",
        "\n",
        "    factor: term       default $$ = $1 \n",
        "    | factor MUL term { $$ = $1 * $3; }\n",
        "    | factor DIV term { $$ = $1 / $3; }\n",
        "    ;\n",
        "\n",
        "    term: NUMBER  default $$ = $1 \n",
        "    | ABS term   { $$ = $2 >= 0? $2 : - $2; }\n",
        "    ;\n",
        "    %%\n",
        "    main(int argc, char **argv)\n",
        "    {\n",
        "      yyparse();\n",
        "    }\n",
        "\n",
        "    yyerror(char *s)\n",
        "    {\n",
        "      fprintf(stderr, \"error: %s\\n\", s);\n",
        "    }\n"
      ],
      "metadata": {
        "id": "mq_OEe3Bwdvz"
      }
    },
    {
      "cell_type": "markdown",
      "source": [
        "### Lex\n",
        "\n",
        "Lex is ..."
      ],
      "metadata": {
        "id": "UTmDLGxFonW-"
      }
    },
    {
      "cell_type": "markdown",
      "source": [
        "### YACC\n",
        "\n",
        "YACC is ..."
      ],
      "metadata": {
        "id": "NZK4cHnJotRC"
      }
    },
    {
      "cell_type": "markdown",
      "source": [
        "###***References***"
      ],
      "metadata": {
        "id": "zDojPrIQrTKx"
      }
    },
    {
      "cell_type": "markdown",
      "source": [
        "1. https://www.gnu.org/software/bison/manual/bison.html#Introduction\n",
        "\n",
        "2. https://www.mvps.net/docs/gnu-flex-and-gnu-bison/?gclid=Cj0KCQjw08aYBhDlARIsAA_gb0ffbLtKYZnJzLZK2e-h5vYq_KEuofSSnNiZMAKjXUazI5KPEOghmqoaAkNUEALw_wcB\n",
        "\n",
        "3. https://www.javatpoint.com/lr-parser\n",
        "\n",
        "4. Gao Lan, http://alumni.cs.ucr.edu/~lgao/teaching/bison.html\n",
        "\n",
        "5. Levine, J. (2009). Flex & Bison: Text Processing Tools. \" O'Reilly Media, Inc.\"."
      ],
      "metadata": {
        "id": "vDg18OpPwwZe"
      }
    }
  ]
}