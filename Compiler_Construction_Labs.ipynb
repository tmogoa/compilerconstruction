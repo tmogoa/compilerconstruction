{
  "nbformat": 4,
  "nbformat_minor": 0,
  "metadata": {
    "colab": {
      "provenance": [],
      "collapsed_sections": [],
      "authorship_tag": "ABX9TyNiKH+RsF7u4JdYdHm3eUW5",
      "include_colab_link": true
    },
    "kernelspec": {
      "name": "python3",
      "display_name": "Python 3"
    },
    "language_info": {
      "name": "python"
    }
  },
  "cells": [
    {
      "cell_type": "markdown",
      "metadata": {
        "id": "view-in-github",
        "colab_type": "text"
      },
      "source": [
        "<a href=\"https://colab.research.google.com/github/tmogoa/compilerconstruction/blob/main/Compiler_Construction_Labs.ipynb\" target=\"_parent\"><img src=\"https://colab.research.google.com/assets/colab-badge.svg\" alt=\"Open In Colab\"/></a>"
      ]
    },
    {
      "cell_type": "markdown",
      "source": [
        "# ***Group members: 116814,***"
      ],
      "metadata": {
        "id": "Z9Z0visyenY7"
      }
    },
    {
      "cell_type": "markdown",
      "source": [
        "# **Lab 1: Flex, Bison, Lex, Yacc**"
      ],
      "metadata": {
        "id": "0FQBiFjDe_9l"
      }
    },
    {
      "cell_type": "code",
      "execution_count": 1,
      "metadata": {
        "colab": {
          "base_uri": "https://localhost:8080/",
          "height": 166
        },
        "id": "xF8tBqwbeOX_",
        "outputId": "c8c022b5-7ff5-4a26-bf36-3812aef99af1"
      },
      "outputs": [
        {
          "output_type": "error",
          "ename": "NameError",
          "evalue": "ignored",
          "traceback": [
            "\u001b[0;31m---------------------------------------------------------------------------\u001b[0m",
            "\u001b[0;31mNameError\u001b[0m                                 Traceback (most recent call last)",
            "\u001b[0;32m<ipython-input-1-8de780203291>\u001b[0m in \u001b[0;36m<module>\u001b[0;34m\u001b[0m\n\u001b[0;32m----> 1\u001b[0;31m \u001b[0mhsvacsdbck\u001b[0m\u001b[0;34m\u001b[0m\u001b[0;34m\u001b[0m\u001b[0m\n\u001b[0m",
            "\u001b[0;31mNameError\u001b[0m: name 'hsvacsdbck' is not defined"
          ]
        }
      ],
      "source": [
        "hsvacsdbck"
      ]
    },
    {
      "cell_type": "code",
      "source": [],
      "metadata": {
        "id": "f20XtnxxgrVC"
      },
      "execution_count": null,
      "outputs": []
    }
  ]
}