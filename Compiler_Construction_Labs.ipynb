{
  "nbformat": 4,
  "nbformat_minor": 0,
  "metadata": {
    "colab": {
      "provenance": [],
      "authorship_tag": "ABX9TyOW0yIX2WVJQ5iwW4KKOz7D",
      "include_colab_link": true
    },
    "kernelspec": {
      "name": "python3",
      "display_name": "Python 3"
    },
    "language_info": {
      "name": "python"
    }
  },
  "cells": [
    {
      "cell_type": "markdown",
      "metadata": {
        "id": "view-in-github",
        "colab_type": "text"
      },
      "source": [
        "<a href=\"https://colab.research.google.com/github/tmogoa/compilerconstruction/blob/main/Compiler_Construction_Labs.ipynb\" target=\"_parent\"><img src=\"https://colab.research.google.com/assets/colab-badge.svg\" alt=\"Open In Colab\"/></a>"
      ]
    },
    {
      "cell_type": "markdown",
      "source": [
        "# ***Group members: 116814,***"
      ],
      "metadata": {
        "id": "Z9Z0visyenY7"
      }
    },
    {
      "cell_type": "markdown",
      "source": [
        "# **Lab 1: Flex, Bison, Lex, Yacc**"
      ],
      "metadata": {
        "id": "0FQBiFjDe_9l"
      }
    },
    {
      "cell_type": "code",
      "execution_count": null,
      "metadata": {
        "id": "xF8tBqwbeOX_"
      },
      "outputs": [],
      "source": []
    }
  ]
}